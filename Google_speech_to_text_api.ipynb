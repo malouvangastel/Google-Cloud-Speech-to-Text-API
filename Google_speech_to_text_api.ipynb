{
 "cells": [
  {
   "cell_type": "markdown",
   "metadata": {},
   "source": [
    "# Speech-to-Text\n",
    "\n",
    "Speech recognition is an interdisciplinary subfield of computational linguistics that develops methodologies and technologies that enables the recognition and translation of spoken language into text by computers. It is also known as automatic speech recognition, computer speech recognition or speech to text."
   ]
  },
  {
   "cell_type": "markdown",
   "metadata": {},
   "source": [
    "## Open Speech Repository \n",
    "\n",
    "The OSR Project provides freely usable speech files in multiple languages for use in Voice over IP testing and other applications.\n",
    "\n",
    "http://www.voiptroubleshooter.com/open_speech/index.html\n",
    "\n",
    "http://www.voiptroubleshooter.com/open_speech/american.html\n",
    "    \n",
    "http://www.voiptroubleshooter.com/open_speech/british.html\n",
    "\n",
    "http://www.cs.columbia.edu/~hgs/audio/harvard.html"
   ]
  },
  {
   "cell_type": "markdown",
   "metadata": {},
   "source": [
    "## Audio files and original text\n",
    "\n",
    "#### Audio files\n",
    "OSR_us_000_0010_8k.wav (American English)\n",
    "\n",
    "OSR_uk_000_0020_8k.wav (British English)\n",
    "\n",
    "#### Original text\n",
    "\n",
    "The birch canoe slid on the smooth planks.\n",
    "Glue the sheet to the dark blue background.\n",
    "It's easy to tell the depth of a well.\n",
    "These days a chicken leg is a rare dish.\n",
    "Rice is often served in round bowls.\n",
    "The juice of lemons makes fine punch.\n",
    "The box was thrown beside the parked truck.\n",
    "The hogs were fed chopped corn and garbage.\n",
    "Four hours of steady work faced us.\n",
    "Large size in stockings is hard to sell."
   ]
  },
  {
   "cell_type": "code",
   "execution_count": 1,
   "metadata": {},
   "outputs": [],
   "source": [
    "original_text = \"The birch canoe slid on the smooth planks Glue the sheet to the dark blue background It's easy to tell the depth of a well These days a chicken leg is a rare dish Rice is often served in round bowls The juice of lemons makes fine punch The box was thrown beside the parked truck The hogs were fed chopped corn and garbage Four hours of steady work faced us Large size in stockings is hard to sell\""
   ]
  },
  {
   "cell_type": "markdown",
   "metadata": {},
   "source": [
    "## Google Speech-to-Text API Usage\n",
    "\n",
    "https://pypi.org/project/SpeechRecognition/\n",
    "#### install google speech api\n",
    "! pip install SpeechRecognition"
   ]
  },
  {
   "cell_type": "code",
   "execution_count": 2,
   "metadata": {},
   "outputs": [],
   "source": [
    "import speech_recognition as sr"
   ]
  },
  {
   "cell_type": "code",
   "execution_count": 3,
   "metadata": {},
   "outputs": [],
   "source": [
    "def get_text(local_file_path):\n",
    "\n",
    "    recognizer = sr.Recognizer()\n",
    "    # use the audio file as the audio source\n",
    "    with sr.AudioFile(local_file_path) as source:\n",
    "        # reads the audio file.\n",
    "        audio = recognizer.record(source)\n",
    "        try:\n",
    "            return recognizer.recognize_google(audio)\n",
    "        except sr.UnknownValueError:\n",
    "            return \"Google Speech Recognition could not understand audio\"\n",
    "        except sr.RequestError as e:\n",
    "            return \"Could not request results from Google Speech Recognition service; {0}\".format(e)\n",
    "        finally:\n",
    "            pass"
   ]
  },
  {
   "cell_type": "code",
   "execution_count": 4,
   "metadata": {},
   "outputs": [
    {
     "name": "stdout",
     "output_type": "stream",
     "text": [
      "perched new Swift on the smooth bike seat without play background editor with observable Tuesday it came like a river Rises Aasan search in Rampur to choose of lemons makes find the passport on the side of the how to search quilling art for the study workspaces was nice talking is hard stuff\n"
     ]
    }
   ],
   "source": [
    "# American English\n",
    "google_speech_to_text_us = get_text('audio_samples/OSR_us_000_0010_8k.wav')\n",
    "print(google_speech_to_text_us)"
   ]
  },
  {
   "cell_type": "code",
   "execution_count": 5,
   "metadata": {},
   "outputs": [
    {
     "name": "stdout",
     "output_type": "stream",
     "text": [
      "can you slept on the smooth Planck's live the cheat to the dog Cool background it's easy to tell with depth of a well these days it is a reddish wise is conserved in round poles reduce of lemons makes fun fun the box is thrown decide the pot Rock The House was add chopped Kaun and garbage 4 hours study work as a lot size in stockings is hard to sell\n"
     ]
    }
   ],
   "source": [
    "# British English\n",
    "google_speech_to_text_uk = get_text('audio_samples/OSR_uk_000_0020_8k.wav')\n",
    "print(google_speech_to_text_uk)"
   ]
  },
  {
   "cell_type": "markdown",
   "metadata": {},
   "source": [
    "## Google Cloud Speech-to-Text API\n",
    "\n",
    "Cloud Speech-to-Text enables easy integration of Google speech recognition technologies into developer applications. You can send audio data to the Speech-to-Text API, which then returns a text transcription of that audio file. \n",
    "\n",
    "**client-libraries-install-python**\n",
    "https://cloud.google.com/speech-to-text/docs/reference/libraries\n",
    "\n",
    "**client-libraries-sample-code-python**\n",
    "https://github.com/googleapis/google-cloud-python/tree/master/speech\n",
    "    \n",
    "**client-libraries-install-python**\n",
    "https://cloud.google.com/speech-to-text/docs/quickstart-client-libraries\n",
    "\n",
    "**client-libraries-sample-code-python**\n",
    "https://github.com/GoogleCloudPlatform/python-docs-samples/tree/master/speech/cloud-client\n",
    "\n",
    "\n",
    "## Setting up authentication\n",
    "\n",
    "To run the client library, we must first set up authentication by creating a service account and setting an environment variable.\n",
    "\n",
    "https://console.cloud.google.com/apis/credentials/serviceaccountkey\n",
    "\n",
    "Set the environment variable GOOGLE_APPLICATION_CREDENTIALS to the file path of the JSON file that contains your service account key. \n",
    "\n",
    "#### Windows Power Shell \n",
    "env:GOOGLE_APPLICATION_CREDENTIALS=\"SpeechAnalytics.json\"\n",
    "#### Windows Command prompt\n",
    "set GOOGLE_APPLICATION_CREDENTIALS=\"SpeechAnalytics.json\"\n",
    "\n",
    "#### Linux/MacOS\n",
    "export GOOGLE_APPLICATION_CREDENTIALS=\"SpeechAnalytics.json\""
   ]
  },
  {
   "cell_type": "markdown",
   "metadata": {},
   "source": [
    "## Google Cloud Speech-to-Text API Usage\n",
    "\n",
    "https://pypi.org/project/google-cloud-speech/\n",
    "#### install google speech api\n",
    "! pip install google-cloud-speech"
   ]
  },
  {
   "cell_type": "code",
   "execution_count": 6,
   "metadata": {},
   "outputs": [],
   "source": [
    "import io\n",
    "import os\n",
    "\n",
    "# the Google Cloud client library\n",
    "from google.cloud import speech\n",
    "from google.cloud import speech_v1\n",
    "from google.cloud.speech import enums\n",
    "from google.cloud.speech import types"
   ]
  },
  {
   "cell_type": "code",
   "execution_count": 7,
   "metadata": {},
   "outputs": [],
   "source": [
    "def get_cloud_text(language_code,sample_rate_hertz,local_file_path):\n",
    "    \n",
    "    client = speech_v1.SpeechClient()\n",
    "\n",
    "    # local_file_path = 'audio_samples/OSR_us_000_0010_8k.wav'\n",
    "\n",
    "    # The language of the supplied audio\n",
    "    # language_code = \"en-US\"\n",
    "\n",
    "    # Sample rate in Hertz of the audio data sent\n",
    "    # sample_rate_hertz = 8000\n",
    "\n",
    "    # Encoding of audio data sent. This sample sets this explicitly.\n",
    "    # This field is optional for FLAC and WAV audio formats.\n",
    "    encoding = enums.RecognitionConfig.AudioEncoding.LINEAR16\n",
    "    config = {\n",
    "        \"language_code\": language_code,\n",
    "        \"sample_rate_hertz\": sample_rate_hertz,\n",
    "        \"encoding\": encoding,\n",
    "    }\n",
    "\n",
    "    # Transcribe long audio file from Cloud Storage using asynchronous speech recognition\n",
    "    # storage_uri = \"gs://cloud-samples-data/speech/brooklyn_bridge.raw\"\n",
    "    # audio = {\"uri\": storage_uri}\n",
    "\n",
    "    # Transcribe a long audio file using asynchronous speech recognition\n",
    "    # local_file_path Path to local audio file, e.g. /path/audio.wav\n",
    "    with io.open(local_file_path, \"rb\") as f:\n",
    "        content = f.read()\n",
    "    audio = {\"content\": content}\n",
    "\n",
    "    # synchronus\n",
    "    #response = client.recognize(config, audio)\n",
    "\n",
    "    # asynchronus\n",
    "    operation = client.long_running_recognize(config, audio)\n",
    "\n",
    "    # print(u\"Waiting for operation to complete...\")\n",
    "    response = operation.result()\n",
    "    output_text_list = []\n",
    "    for result in response.results:\n",
    "        # First alternative is the most probable result\n",
    "        alternative = result.alternatives[0]\n",
    "        output_text_list.append(alternative.transcript)\n",
    "        # print(u\"Transcript: {}\".format(alternative.transcript))\n",
    "\n",
    "    return ''.join(output_text_list)"
   ]
  },
  {
   "cell_type": "code",
   "execution_count": 8,
   "metadata": {},
   "outputs": [
    {
     "name": "stdout",
     "output_type": "stream",
     "text": [
      "the Birch canoes lid on the smooth planks glue the seat to the dark blue background it is easy to tell the death of a well. These days a chicken leg has a word dish. Rice is often served in round bowls. Did use of lemon snakes find punch. The box was down beside the park truck. the Hogs of the popcorn and garbage 4 hours of study work face to us a large size in stockings is hard to sell.\n"
     ]
    }
   ],
   "source": [
    "# American English\n",
    "google_cloud_speech_to_text_us = get_cloud_text(\"en-US\",8000,'audio_samples/OSR_us_000_0010_8k.wav')\n",
    "print(google_cloud_speech_to_text_us)"
   ]
  },
  {
   "cell_type": "code",
   "execution_count": 9,
   "metadata": {},
   "outputs": [
    {
     "name": "stdout",
     "output_type": "stream",
     "text": [
      "the birch canoe slid on the smooth planks glue the sheet to the dark blue background it's easy to tell the depth of a well these days a chicken Leg is a reddish rice is often served in round bowls the juice of lemons makes fine punch the box was thrown beside the pot truck the hogs were fed up corn and garbage 4 hours of steady work based s a large size in stockings is hard to sell\n"
     ]
    }
   ],
   "source": [
    "# British English\n",
    "google_cloud_speech_to_text_uk = get_cloud_text(\"en-GB\",8000,'audio_samples/OSR_uk_000_0020_8k.wav')\n",
    "print(google_cloud_speech_to_text_uk)"
   ]
  },
  {
   "cell_type": "markdown",
   "metadata": {},
   "source": [
    "### Lets check the accuracy of both Cloud and non-Cloud speech api\n",
    "\n",
    "Similarity between original text and output from speech-to-text api"
   ]
  },
  {
   "cell_type": "code",
   "execution_count": 10,
   "metadata": {},
   "outputs": [],
   "source": [
    "# split sentances into words\n",
    "def WordGram(text):\n",
    "    tokens = str.split(text.replace('\\n', ' ').lower())\n",
    "    return set(tokens)"
   ]
  },
  {
   "cell_type": "code",
   "execution_count": 11,
   "metadata": {},
   "outputs": [],
   "source": [
    "original_set = WordGram(original_text)\n",
    "google_speech_to_text_us_set = WordGram(google_speech_to_text_us)\n",
    "google_cloud_speech_to_text_us_set = WordGram(google_cloud_speech_to_text_us)"
   ]
  },
  {
   "cell_type": "markdown",
   "metadata": {},
   "source": [
    "### jaccard similarity (IoU)"
   ]
  },
  {
   "cell_type": "code",
   "execution_count": 12,
   "metadata": {},
   "outputs": [],
   "source": [
    "def jaccard(s1,s2,s3, message):\n",
    "    print('Google non-cloud speech-to-text api accuracy is: %.6f percent' % (100.* len(s1.intersection(s2))/ len(s1.union(s2))))\n",
    "    print('Google cloud speech-to-text api accuracy is: %.6f percent' % (100.* len(s1.intersection(s3))/ len(s1.union(s3))))"
   ]
  },
  {
   "cell_type": "code",
   "execution_count": 13,
   "metadata": {},
   "outputs": [
    {
     "name": "stdout",
     "output_type": "stream",
     "text": [
      "Google non-cloud speech-to-text api accuracy is: 13.829787 percent\n",
      "Google cloud speech-to-text api accuracy is: 43.023256 percent\n"
     ]
    }
   ],
   "source": [
    "jaccard(original_set,google_speech_to_text_us_set,google_cloud_speech_to_text_us_set, 'Word Gram')"
   ]
  },
  {
   "cell_type": "markdown",
   "metadata": {},
   "source": [
    "## Minhashing\n",
    "MinHash uses the magic of hashing to quickly estimate Jaccard Similarities."
   ]
  },
  {
   "cell_type": "markdown",
   "metadata": {},
   "source": [
    "#### Non-cloud accuracy"
   ]
  },
  {
   "cell_type": "code",
   "execution_count": 14,
   "metadata": {},
   "outputs": [],
   "source": [
    "stotal_non = list(original_set.union(google_speech_to_text_us_set))"
   ]
  },
  {
   "cell_type": "code",
   "execution_count": 15,
   "metadata": {},
   "outputs": [
    {
     "name": "stdout",
     "output_type": "stream",
     "text": [
      "with t = 20  we get a minhash similarity of  0.1\n",
      "with t = 60  we get a minhash similarity of  0.11666666666666667\n",
      "with t = 150  we get a minhash similarity of  0.11333333333333333\n",
      "with t = 300  we get a minhash similarity of  0.12\n",
      "with t = 600  we get a minhash similarity of  0.13333333333333333\n"
     ]
    }
   ],
   "source": [
    "import math\n",
    "# Implementing fast Minhashing algortihm\n",
    "for k in [20,60,150,300,600]:    \n",
    "    successCounter = 0\n",
    "    for t in range (k):\n",
    "        minNum = [math.inf, math.inf]\n",
    "        for i in range (len(stotal_non)):\n",
    "            current = hash(str(t)+stotal_non[i]+str(t)) % 10000\n",
    "            if stotal_non[i] in original_set: # this is how we'll emulate the vector representation of this sample 1\n",
    "                if (current < minNum[0]):\n",
    "                    minNum[0] = current\n",
    "            if stotal_non[i] in google_speech_to_text_us_set: # this is how we'll emulate the vector representation of this sample 2\n",
    "                if (current < minNum[1]):\n",
    "                    minNum[1] = current\n",
    "        if minNum[0] == minNum[1]:\n",
    "            successCounter = successCounter+1\n",
    "    print(\"with t = %d\"%k, \" we get a minhash similarity of \", successCounter/k)"
   ]
  },
  {
   "cell_type": "markdown",
   "metadata": {},
   "source": [
    "#### Cloud accuracy"
   ]
  },
  {
   "cell_type": "code",
   "execution_count": 16,
   "metadata": {},
   "outputs": [],
   "source": [
    "stotal_cloud = list(original_set.union(google_cloud_speech_to_text_us_set))"
   ]
  },
  {
   "cell_type": "code",
   "execution_count": 17,
   "metadata": {},
   "outputs": [
    {
     "name": "stdout",
     "output_type": "stream",
     "text": [
      "with t = 20  we get a minhash similarity of  0.6\n",
      "with t = 60  we get a minhash similarity of  0.38333333333333336\n",
      "with t = 150  we get a minhash similarity of  0.43333333333333335\n",
      "with t = 300  we get a minhash similarity of  0.44\n",
      "with t = 600  we get a minhash similarity of  0.43833333333333335\n"
     ]
    }
   ],
   "source": [
    "import math\n",
    "# Implementing fast Minhashing algortihm\n",
    "for k in [20,60,150,300,600]:    \n",
    "    successCounter = 0\n",
    "    for t in range (k):\n",
    "        minNum = [math.inf, math.inf]\n",
    "        for i in range (len(stotal_cloud)):\n",
    "            current = hash(str(t)+stotal_cloud[i]+str(t)) % 10000\n",
    "            if stotal_cloud[i] in original_set: # this is how we'll emulate the vector representation of this sample 1\n",
    "                if (current < minNum[0]):\n",
    "                    minNum[0] = current\n",
    "            if stotal_cloud[i] in google_cloud_speech_to_text_us_set: # this is how we'll emulate the vector representation of this sample 2\n",
    "                if (current < minNum[1]):\n",
    "                    minNum[1] = current\n",
    "        if minNum[0] == minNum[1]:\n",
    "            successCounter = successCounter+1\n",
    "    print(\"with t = %d\"%k, \" we get a minhash similarity of \", successCounter/k)"
   ]
  },
  {
   "cell_type": "markdown",
   "metadata": {},
   "source": [
    "# Conclusion\n",
    "\n",
    "Google non-cloud speech-to-text api accuracy is: **13.829787** percent\n",
    "\n",
    "Google cloud speech-to-text api accuracy is: **43.023256** percent\n",
    "\n",
    " **Google Cloud Speech-to-Text is more accurate in recognizing speech**"
   ]
  },
  {
   "cell_type": "code",
   "execution_count": null,
   "metadata": {},
   "outputs": [],
   "source": []
  }
 ],
 "metadata": {
  "kernelspec": {
   "display_name": "Python 3",
   "language": "python",
   "name": "python3"
  },
  "language_info": {
   "codemirror_mode": {
    "name": "ipython",
    "version": 3
   },
   "file_extension": ".py",
   "mimetype": "text/x-python",
   "name": "python",
   "nbconvert_exporter": "python",
   "pygments_lexer": "ipython3",
   "version": "3.7.0"
  }
 },
 "nbformat": 4,
 "nbformat_minor": 2
}
